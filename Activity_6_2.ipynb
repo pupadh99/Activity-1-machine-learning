{
  "nbformat": 4,
  "nbformat_minor": 0,
  "metadata": {
    "colab": {
      "provenance": [],
      "include_colab_link": true
    },
    "kernelspec": {
      "name": "python3",
      "display_name": "Python 3"
    },
    "language_info": {
      "name": "python"
    }
  },
  "cells": [
    {
      "cell_type": "markdown",
      "metadata": {
        "id": "view-in-github",
        "colab_type": "text"
      },
      "source": [
        "<a href=\"https://colab.research.google.com/github/pupadh99/Activity-1-machine-learning/blob/main/Activity_6_2.ipynb\" target=\"_parent\"><img src=\"https://colab.research.google.com/assets/colab-badge.svg\" alt=\"Open In Colab\"/></a>"
      ]
    },
    {
      "cell_type": "markdown",
      "source": [
        "# Palmer Penguins Modeling\n",
        "\n",
        "Import the Palmer Penguins dataset and print out the first few rows.\n",
        "\n",
        "Suppose we want to predict `bill_depth_mm` using the other variables in the dataset.\n",
        "\n",
        "**Dummify** all variables that require this."
      ],
      "metadata": {
        "id": "FdLoheP-mrxn"
      }
    },
    {
      "cell_type": "code",
      "execution_count": null,
      "metadata": {
        "id": "N5lG475yllju",
        "outputId": "aca0c623-f40f-4615-9fcd-6768a3b6281e",
        "colab": {
          "base_uri": "https://localhost:8080/"
        }
      },
      "outputs": [
        {
          "output_type": "stream",
          "name": "stdout",
          "text": [
            "  species     island  bill_length_mm  bill_depth_mm  flipper_length_mm  \\\n",
            "0  Adelie  Torgersen            39.1           18.7              181.0   \n",
            "1  Adelie  Torgersen            39.5           17.4              186.0   \n",
            "2  Adelie  Torgersen            40.3           18.0              195.0   \n",
            "3  Adelie  Torgersen             NaN            NaN                NaN   \n",
            "4  Adelie  Torgersen            36.7           19.3              193.0   \n",
            "\n",
            "   body_mass_g     sex  year  \n",
            "0       3750.0    male  2007  \n",
            "1       3800.0  female  2007  \n",
            "2       3250.0  female  2007  \n",
            "3          NaN     NaN  2007  \n",
            "4       3450.0  female  2007  \n"
          ]
        }
      ],
      "source": [
        "import pandas as pd\n",
        "\n",
        "file_path = 'https://raw.githubusercontent.com/allisonhorst/palmerpenguins/master/inst/extdata/penguins.csv'\n",
        "penguins = pd.read_csv(file_path)\n",
        "print(penguins.head())\n",
        "\n",
        "penguins = pd.get_dummies(penguins, columns=['species', 'island', 'sex'], drop_first=True)\n",
        "\n"
      ]
    },
    {
      "cell_type": "markdown",
      "source": [
        "Let's use the other variables to predict `bill_depth_mm`. Prepare your data and fit the following models on the entire dataset:\n",
        "\n",
        "* Four different models, each containing a different set of predictor variables\n",
        "\n",
        "Create a plot like the right plot of Fig 1. in our `Model Validation` chapter with the training and test error plotted for each of your four models.\n",
        "\n",
        "Which of your models was best?"
      ],
      "metadata": {
        "id": "TT1MVgaKm_gX"
      }
    },
    {
      "cell_type": "code",
      "source": [
        "import pandas as pd\n",
        "import numpy as np\n",
        "import matplotlib.pyplot as plt\n",
        "from sklearn.model_selection import train_test_split\n",
        "from sklearn.linear_model import LinearRegression\n",
        "from sklearn.metrics import mean_squared_error\n",
        "from sklearn.impute import SimpleImputer\n",
        "\n",
        "file_path = 'https://raw.githubusercontent.com/allisonhorst/palmerpenguins/master/inst/extdata/penguins.csv'\n",
        "penguins = pd.read_csv(file_path)\n",
        "penguins = pd.get_dummies(penguins, columns=['species', 'island', 'sex'], drop_first=True)\n",
        "\n",
        "X = penguins.drop(columns=['bill_depth_mm'])\n",
        "y = penguins['bill_depth_mm']\n",
        "\n",
        "imputer = SimpleImputer(strategy='mean')\n",
        "X = imputer.fit_transform(X)\n",
        "\n",
        "imputer_y = SimpleImputer(strategy='mean')\n",
        "y = imputer_y.fit_transform(y.values.reshape(-1, 1))\n",
        "\n",
        "X_train, X_test, y_train, y_test = train_test_split(X, y, test_size=0.2, random_state=42)\n",
        "\n",
        "models = []\n",
        "models.append(('Model 1', LinearRegression().fit(X_train[:, [0]], y_train)))\n",
        "models.append(('Model 2', LinearRegression().fit(X_train[:, [0, 1]], y_train)))\n",
        "models.append(('Model 3', LinearRegression().fit(X_train[:, [0, 1, 2]], y_train)))\n",
        "models.append(('Model 4', LinearRegression().fit(X_train, y_train)))\n",
        "\n",
        "\n",
        "training_errors = []\n",
        "testing_errors = []\n",
        "\n",
        "for model_name, model in models:\n",
        "    train_preds = model.predict(X_train[:, :model.coef_.shape[1]])\n",
        "    test_preds = model.predict(X_test[:, :model.coef_.shape[1]])\n",
        "    training_errors.append(mean_squared_error(y_train, train_preds))\n",
        "    testing_errors.append(mean_squared_error(y_test, test_preds))\n",
        "\n",
        "model_names = [model[0] for model in models]\n",
        "x = np.arange(len(model_names))\n",
        "\n",
        "plt.bar(x - 0.2, training_errors, width=0.4, label='Training Error')\n",
        "plt.bar(x + 0.2, testing_errors, width=0.4, label='Test Error')\n",
        "plt.xticks(x, model_names)\n",
        "plt.xlabel('Models')\n",
        "plt.ylabel('Mean Squared Error')\n",
        "plt.legend()\n",
        "plt.title('Training and Test Errors for Different Models')\n",
        "plt.show()\n",
        "\n",
        "\n"
      ],
      "metadata": {
        "id": "M6f7JWZTm6tn",
        "outputId": "185efe20-8f54-49d2-a24e-81cb495fd465",
        "colab": {
          "base_uri": "https://localhost:8080/",
          "height": 472
        }
      },
      "execution_count": null,
      "outputs": [
        {
          "output_type": "display_data",
          "data": {
            "text/plain": [
              "<Figure size 640x480 with 1 Axes>"
            ],
            "image/png": "[encoded data removed]"
          },
          "metadata": {}
        }
      ]
    },
    {
      "cell_type": "markdown",
      "source": [
        "Model 1 had the highest MSE as well as the biggest difference between training error and test error. Model 4 had the lowest MSE and least difference between the two statistics."
      ],
      "metadata": {
        "id": "uZkYNI1gp9S2"
      }
    }
  ]
}