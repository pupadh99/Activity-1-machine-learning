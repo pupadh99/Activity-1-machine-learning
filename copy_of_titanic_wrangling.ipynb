{
  "nbformat": 4,
  "nbformat_minor": 0,
  "metadata": {
    "colab": {
      "provenance": [],
      "include_colab_link": true
    },
    "kernelspec": {
      "name": "python3",
      "display_name": "Python 3"
    },
    "language_info": {
      "name": "python"
    }
  },
  "cells": [
    {
      "cell_type": "markdown",
      "metadata": {
        "id": "view-in-github",
        "colab_type": "text"
      },
      "source": [
        "<a href=\"https://colab.research.google.com/github/pupadh99/Activity-1-machine-learning/blob/main/copy_of_titanic_wrangling.ipynb\" target=\"_parent\"><img src=\"https://colab.research.google.com/assets/colab-badge.svg\" alt=\"Open In Colab\"/></a>"
      ]
    },
    {
      "cell_type": "markdown",
      "source": [
        "# Titanic Wrangling\n",
        "\n",
        "In this practice activity you'll continue to work with the titanic dataset in ways that flex what you've learned about both data wrangling and data visualization."
      ],
      "metadata": {
        "id": "QWpPySbzYEIV"
      }
    },
    {
      "cell_type": "code",
      "execution_count": null,
      "metadata": {
        "id": "Nr6w8bVCf_NM"
      },
      "outputs": [],
      "source": [
        "import numpy as np\n",
        "import pandas as pd\n",
        "data_dir = \"https://dlsun.github.io/pods/data/\"\n",
        "df_titanic = pd.read_csv(data_dir + \"titanic.csv\")"
      ]
    },
    {
      "cell_type": "markdown",
      "source": [
        "## 1. Filter the data to include passengers only. Calculate the joint distribution (cross-tab) between a passenger's class and where they embarked."
      ],
      "metadata": {
        "id": "9UgZD6VFYa96"
      }
    },
    {
      "cell_type": "code",
      "source": [
        "# Code here\n",
        "#create a data frame where passengers are filtered by class\n",
        "filtered_df = df_titanic[df_titanic[\"class\"].isin([\"1st\", \"2nd\", \"3rd\"])]\n",
        "#create a table showing number of passengers who embarked at each location given class\n",
        "result_df=pd.crosstab(filtered_df[\"class\"], filtered_df[\"embarked\"])\n",
        "#print result\n",
        "print(result_df)"
      ],
      "metadata": {
        "id": "TBthOzDLgBif",
        "outputId": "e8a70ad1-6ab9-4a9a-a16c-87610f9a0e97",
        "colab": {
          "base_uri": "https://localhost:8080/"
        }
      },
      "execution_count": null,
      "outputs": [
        {
          "output_type": "stream",
          "name": "stdout",
          "text": [
            "embarked  B    C    Q    S\n",
            "class                     \n",
            "1st       3  143    3  175\n",
            "2nd       6   26    7  245\n",
            "3rd       0  102  113  494\n"
          ]
        }
      ]
    },
    {
      "cell_type": "markdown",
      "source": [
        "## 2. Using the joint distribution that calculated above, calculate the following:\n",
        "\n",
        "* the conditional distribution of their class given where they embarked\n",
        "* the conditional distribution of where they embarked given their class\n",
        "\n",
        "Use the conditional distributions that you calculate to answer the following quesitons:\n",
        "\n",
        "* What proportion of 3rd class passengers embarked at Southampton?\n",
        "* What proportion of Southampton passengers were in 3rd class?"
      ],
      "metadata": {
        "id": "3CRaJLSyYm4d"
      }
    },
    {
      "cell_type": "code",
      "source": [
        "# Code here\n",
        "# conditional distribution of class given where passengers embarked\n",
        "conditional_class_given_embarked = result_df.div(result_df.sum(axis=1), axis=0)\n",
        "\n",
        "# conditional distribution of where they embarked given their class\n",
        "conditional_embarked_given_class = result_df.div(result_df.sum(axis=0), axis=1)\n",
        "\n",
        "# Print the first df\n",
        "print(\"Conditional Distribution of Class given where they Embarked:\")\n",
        "print(conditional_class_given_embarked)\n",
        "\n",
        "# print the second df\n",
        "print(\"\\nConditional Distribution of Where they Embarked given their Class:\")\n",
        "print(conditional_embarked_given_class)\n"
      ],
      "metadata": {
        "id": "TfTGidLIv1k0",
        "outputId": "0a2f6aeb-431c-48d0-ce5d-76f520299b09",
        "colab": {
          "base_uri": "https://localhost:8080/"
        }
      },
      "execution_count": null,
      "outputs": [
        {
          "output_type": "stream",
          "name": "stdout",
          "text": [
            "Conditional Distribution of Class given where they Embarked:\n",
            "embarked         B         C         Q         S\n",
            "class                                           \n",
            "1st       0.009259  0.441358  0.009259  0.540123\n",
            "2nd       0.021127  0.091549  0.024648  0.862676\n",
            "3rd       0.000000  0.143865  0.159379  0.696756\n",
            "\n",
            "Conditional Distribution of Where they Embarked given their Class:\n",
            "embarked         B         C         Q         S\n",
            "class                                           \n",
            "1st       0.333333  0.527675  0.024390  0.191466\n",
            "2nd       0.666667  0.095941  0.056911  0.268053\n",
            "3rd       0.000000  0.376384  0.918699  0.540481\n"
          ]
        }
      ]
    },
    {
      "cell_type": "code",
      "source": [
        "# conditional distribution table of class given where they embarked\n",
        "conditional_class_given_embarked = result_df.div(result_df.sum(axis=1), axis=0)\n",
        "#print the df\n",
        "print(conditional_class_given_embarked)\n",
        "#calculate the proportion of 3rd class passengers who embarked at southampton\n",
        "proportion_3rd_class_southampton = conditional_class_given_embarked.loc[\"3rd\", \"S\"]\n",
        "#print result\n",
        "print(f\"Proportion of 3rd class passengers embarked at Southampton: {proportion_3rd_class_southampton:.2f}\")\n"
      ],
      "metadata": {
        "id": "2aqpg5QXnI-P",
        "outputId": "6c3fdbec-ff4b-4b76-fcd3-9c1e5fd582b7",
        "colab": {
          "base_uri": "https://localhost:8080/"
        }
      },
      "execution_count": null,
      "outputs": [
        {
          "output_type": "stream",
          "name": "stdout",
          "text": [
            "embarked         B         C         Q         S\n",
            "class                                           \n",
            "1st       0.009259  0.441358  0.009259  0.540123\n",
            "2nd       0.021127  0.091549  0.024648  0.862676\n",
            "3rd       0.000000  0.143865  0.159379  0.696756\n",
            "Proportion of 3rd class passengers embarked at Southampton: 0.70\n"
          ]
        }
      ]
    },
    {
      "cell_type": "code",
      "source": [
        "import pandas as pd\n",
        "# conditional distribution table of where a passnger embarked given class\n",
        "conditional_embarked_given_class = result_df.div(result_df.sum(axis=0), axis=1)\n",
        "#print the df\n",
        "print(conditional_embarked_given_class)\n",
        "#calculate the proportion of passengers who embarked at southamption and were 3rd class\n",
        "probability_Southampton_3rd_class = conditional_embarked_given_class.loc[\"3rd\", \"S\"]\n",
        "\n",
        "# Print the result\n",
        "print(f\"Proportion of those who embarked at Southampton and were 3rd class: {probability_Southampton_3rd_class:.2f}\")"
      ],
      "metadata": {
        "colab": {
          "base_uri": "https://localhost:8080/"
        },
        "id": "uUDvIUOiTqHj",
        "outputId": "e4357bb8-bb31-4636-86d2-c4a474e3778c"
      },
      "execution_count": null,
      "outputs": [
        {
          "output_type": "stream",
          "name": "stdout",
          "text": [
            "embarked         B         C         Q         S\n",
            "class                                           \n",
            "1st       0.333333  0.527675  0.024390  0.191466\n",
            "2nd       0.666667  0.095941  0.056911  0.268053\n",
            "3rd       0.000000  0.376384  0.918699  0.540481\n",
            "Proportion of those who embarked at Southampton and were 3rd class: 0.54\n"
          ]
        }
      ]
    },
    {
      "cell_type": "markdown",
      "source": [
        "## 3. Make a visualization showing the distribution of a passenger's class, given where they embarked.\n",
        "\n",
        "Discuss the pros and cons of using this visualization versus the distributions you calculated before, to answer the previous questions."
      ],
      "metadata": {
        "id": "pGUQeeh1ZRfz"
      }
    },
    {
      "cell_type": "code",
      "source": [
        "import pandas as pd\n",
        "import seaborn as sns\n",
        "import matplotlib.pyplot as plt\n",
        "\n",
        "# URL for the dataset\n",
        "data_url = \"https://dlsun.github.io/pods/data/titanic.csv\"\n",
        "\n",
        "# Create a DataFrame from the URL\n",
        "df = pd.read_csv(data_url)\n",
        "\n",
        "# Create a countplot to visualize the distribution\n",
        "plt.figure(figsize=(8, 6))\n",
        "sns.countplot(data=df, x=\"embarked\", hue=\"class\", palette=\"Set1\")  # Use lowercase column names\n",
        "plt.title(\"Distribution of Passenger Class by Embarkation Port\")\n",
        "plt.xlabel(\"Embarkation Port\")\n",
        "plt.ylabel(\"Count\")\n",
        "plt.legend(title=\"Pclass\", labels=[\"1st Class\", \"2nd Class\", \"3rd Class\"])\n",
        "plt.show()"
      ],
      "metadata": {
        "id": "arUn9ox5ijKB",
        "colab": {
          "base_uri": "https://localhost:8080/",
          "height": 564
        },
        "outputId": "3bac6428-b2d0-42dc-b14c-0fedee49363f"
      },
      "execution_count": null,
      "outputs": [
        {
          "output_type": "display_data",
          "data": {
            "text/plain": [
              "<Figure size 800x600 with 1 Axes>"
            ],
            "image/png": "[encoded data removed]"
          },
          "metadata": {}
        }
      ]
    },
    {
      "cell_type": "markdown",
      "source": [
        "The pros of this visualization are that we can easily see the count of passengers who embarked at each port, and it is easily visualized by colorcoding the classes. A limitation is that it is not as precise as other visualizations, as the y axis is not as easy to read."
      ],
      "metadata": {
        "id": "xOK2oN9MXgUx"
      }
    }
  ]
}