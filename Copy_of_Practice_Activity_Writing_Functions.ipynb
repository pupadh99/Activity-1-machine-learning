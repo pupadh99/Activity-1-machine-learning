{
  "nbformat": 4,
  "nbformat_minor": 0,
  "metadata": {
    "colab": {
      "provenance": [],
      "include_colab_link": true
    },
    "kernelspec": {
      "name": "python3",
      "display_name": "Python 3"
    },
    "language_info": {
      "name": "python"
    }
  },
  "cells": [
    {
      "cell_type": "markdown",
      "metadata": {
        "id": "view-in-github",
        "colab_type": "text"
      },
      "source": [
        "<a href=\"https://colab.research.google.com/github/pupadh99/Activity-1-machine-learning/blob/main/Copy_of_Practice_Activity_Writing_Functions.ipynb\" target=\"_parent\"><img src=\"https://colab.research.google.com/assets/colab-badge.svg\" alt=\"Open In Colab\"/></a>"
      ]
    },
    {
      "cell_type": "code",
      "source": [
        "!pip install palmerpenguins"
      ],
      "metadata": {
        "colab": {
          "base_uri": "https://localhost:8080/"
        },
        "id": "ft_WYOPgkcCM",
        "outputId": "6bb715c8-4d48-42a2-c6a6-aa2d9022b008"
      },
      "execution_count": 2,
      "outputs": [
        {
          "output_type": "stream",
          "name": "stdout",
          "text": [
            "Collecting palmerpenguins\n",
            "  Downloading palmerpenguins-0.1.4-py3-none-any.whl (17 kB)\n",
            "Requirement already satisfied: pandas in /usr/local/lib/python3.10/dist-packages (from palmerpenguins) (1.5.3)\n",
            "Requirement already satisfied: numpy in /usr/local/lib/python3.10/dist-packages (from palmerpenguins) (1.23.5)\n",
            "Requirement already satisfied: python-dateutil>=2.8.1 in /usr/local/lib/python3.10/dist-packages (from pandas->palmerpenguins) (2.8.2)\n",
            "Requirement already satisfied: pytz>=2020.1 in /usr/local/lib/python3.10/dist-packages (from pandas->palmerpenguins) (2023.3.post1)\n",
            "Requirement already satisfied: six>=1.5 in /usr/local/lib/python3.10/dist-packages (from python-dateutil>=2.8.1->pandas->palmerpenguins) (1.16.0)\n",
            "Installing collected packages: palmerpenguins\n",
            "Successfully installed palmerpenguins-0.1.4\n"
          ]
        }
      ]
    },
    {
      "cell_type": "code",
      "execution_count": 3,
      "metadata": {
        "id": "b69ul3XcoRQv"
      },
      "outputs": [],
      "source": [
        "import numpy as np\n",
        "import pandas as pd\n",
        "from sys import exit\n",
        "from palmerpenguins import load_penguins\n",
        "from plotnine import ggplot, aes, geom_point, geom_bar"
      ]
    },
    {
      "cell_type": "markdown",
      "source": [
        "1. Fill in the necessary code to write a function called `times_seven()`. The function should take a single argument (`x`) and multiply the input by 7.\n",
        "  + This function should check that the argument is numeric.\n",
        "  + This function should also excitedly announce (print) *“I love sevens!”* if the argument to the function is a 7."
      ],
      "metadata": {
        "id": "1Q8_a-5qociG"
      }
    },
    {
      "cell_type": "code",
      "source": [
        "def times_seven(x):\n",
        "\n",
        "  if not isinstance(x, (int,float)):\n",
        "    exit(\"Input is not numeric!\")\n",
        "\n",
        "  if x==7:\n",
        "    print(\"I love sevens!\")\n",
        "\n",
        "  return x * 7\n"
      ],
      "metadata": {
        "id": "l5CW0nuloYzy"
      },
      "execution_count": 4,
      "outputs": []
    },
    {
      "cell_type": "markdown",
      "source": [
        "2. Write and run some *unit tests* for your `times_seven` function.  What happens if the input to the function is `[1, 3, 5, 7]`?"
      ],
      "metadata": {
        "id": "nonjYlruotrq"
      }
    },
    {
      "cell_type": "code",
      "source": [
        "result = times_seven(7)\n",
        "print(result)\n",
        "result= times_seven(5)\n",
        "print(result)\n",
        "result= times_seven(3)\n",
        "print(result)\n",
        "result=times_seven(1)\n",
        "print(result)"
      ],
      "metadata": {
        "id": "omByeZsoMAKP",
        "outputId": "1eff7551-4a93-45d6-f1f7-7bd83501f82a",
        "colab": {
          "base_uri": "https://localhost:8080/"
        }
      },
      "execution_count": 5,
      "outputs": [
        {
          "output_type": "stream",
          "name": "stdout",
          "text": [
            "I love sevens!\n",
            "49\n",
            "35\n",
            "21\n",
            "7\n"
          ]
        }
      ]
    },
    {
      "cell_type": "markdown",
      "source": [
        "3. Consider the following function:"
      ],
      "metadata": {
        "id": "98sLHKBno39e"
      }
    },
    {
      "cell_type": "code",
      "source": [
        "def add_or_subtract(first_num, second_num = 2, type = \"add\"):\n",
        "\n",
        "  if (type == \"add\"):\n",
        "    res = first_num + second_num\n",
        "  elif (type == \"subtract\"):\n",
        "    res = first_num - second_num\n",
        "  else:\n",
        "    exit(\"Please choose `add` or `subtract` as the type.\")\n",
        "\n",
        "    return res\n",
        "    print(res)"
      ],
      "metadata": {
        "id": "V1xGEwq-o5mh"
      },
      "execution_count": 6,
      "outputs": []
    },
    {
      "cell_type": "markdown",
      "source": [
        "This code will produce an error defined by the add_or_subtract function, as the type \"multiply\" is not defined in the function"
      ],
      "metadata": {
        "id": "OQTi-6mRNZPp"
      }
    },
    {
      "cell_type": "markdown",
      "source": [
        "**Without running the code**, predict if the following will produce:\n",
        "\n",
        "a. 1\n",
        "\n",
        "b. -1\n",
        "\n",
        "c. 30\n",
        "\n",
        "d. An error defined by the function `add_or_subtract()`\n",
        "\n",
        "e. An error defined in a different function, which is called inside the `add_or_subtract()` function"
      ],
      "metadata": {
        "id": "KIzEYgR1pI0K"
      }
    },
    {
      "cell_type": "code",
      "source": [],
      "metadata": {
        "id": "vrOh-a39O_vk"
      },
      "execution_count": null,
      "outputs": []
    },
    {
      "cell_type": "code",
      "source": [
        "add_or_subtract(5, 6, type = \"subtract\")\n",
        "\n",
        "add_or_subtract(\"orange\")\n",
        "\n",
        "add_or_subtract(5, 6, type = \"multiply\")"
      ],
      "metadata": {
        "id": "AKN_fkigpHIS",
        "outputId": "1ab60b47-a10a-4944-e501-ce19614036c3",
        "colab": {
          "base_uri": "https://localhost:8080/",
          "height": 367
        }
      },
      "execution_count": 7,
      "outputs": [
        {
          "output_type": "error",
          "ename": "TypeError",
          "evalue": "ignored",
          "traceback": [
            "\u001b[0;31m---------------------------------------------------------------------------\u001b[0m",
            "\u001b[0;31mTypeError\u001b[0m                                 Traceback (most recent call last)",
            "\u001b[0;32m<ipython-input-7-591a2d5dea44>\u001b[0m in \u001b[0;36m<cell line: 3>\u001b[0;34m()\u001b[0m\n\u001b[1;32m      1\u001b[0m \u001b[0madd_or_subtract\u001b[0m\u001b[0;34m(\u001b[0m\u001b[0;36m5\u001b[0m\u001b[0;34m,\u001b[0m \u001b[0;36m6\u001b[0m\u001b[0;34m,\u001b[0m \u001b[0mtype\u001b[0m \u001b[0;34m=\u001b[0m \u001b[0;34m\"subtract\"\u001b[0m\u001b[0;34m)\u001b[0m\u001b[0;34m\u001b[0m\u001b[0;34m\u001b[0m\u001b[0m\n\u001b[1;32m      2\u001b[0m \u001b[0;34m\u001b[0m\u001b[0m\n\u001b[0;32m----> 3\u001b[0;31m \u001b[0madd_or_subtract\u001b[0m\u001b[0;34m(\u001b[0m\u001b[0;34m\"orange\"\u001b[0m\u001b[0;34m)\u001b[0m\u001b[0;34m\u001b[0m\u001b[0;34m\u001b[0m\u001b[0m\n\u001b[0m\u001b[1;32m      4\u001b[0m \u001b[0;34m\u001b[0m\u001b[0m\n\u001b[1;32m      5\u001b[0m \u001b[0madd_or_subtract\u001b[0m\u001b[0;34m(\u001b[0m\u001b[0;36m5\u001b[0m\u001b[0;34m,\u001b[0m \u001b[0;36m6\u001b[0m\u001b[0;34m,\u001b[0m \u001b[0mtype\u001b[0m \u001b[0;34m=\u001b[0m \u001b[0;34m\"multiply\"\u001b[0m\u001b[0;34m)\u001b[0m\u001b[0;34m\u001b[0m\u001b[0;34m\u001b[0m\u001b[0m\n",
            "\u001b[0;32m<ipython-input-6-fd6821f33642>\u001b[0m in \u001b[0;36madd_or_subtract\u001b[0;34m(first_num, second_num, type)\u001b[0m\n\u001b[1;32m      2\u001b[0m \u001b[0;34m\u001b[0m\u001b[0m\n\u001b[1;32m      3\u001b[0m   \u001b[0;32mif\u001b[0m \u001b[0;34m(\u001b[0m\u001b[0mtype\u001b[0m \u001b[0;34m==\u001b[0m \u001b[0;34m\"add\"\u001b[0m\u001b[0;34m)\u001b[0m\u001b[0;34m:\u001b[0m\u001b[0;34m\u001b[0m\u001b[0;34m\u001b[0m\u001b[0m\n\u001b[0;32m----> 4\u001b[0;31m     \u001b[0mres\u001b[0m \u001b[0;34m=\u001b[0m \u001b[0mfirst_num\u001b[0m \u001b[0;34m+\u001b[0m \u001b[0msecond_num\u001b[0m\u001b[0;34m\u001b[0m\u001b[0;34m\u001b[0m\u001b[0m\n\u001b[0m\u001b[1;32m      5\u001b[0m   \u001b[0;32melif\u001b[0m \u001b[0;34m(\u001b[0m\u001b[0mtype\u001b[0m \u001b[0;34m==\u001b[0m \u001b[0;34m\"subtract\"\u001b[0m\u001b[0;34m)\u001b[0m\u001b[0;34m:\u001b[0m\u001b[0;34m\u001b[0m\u001b[0;34m\u001b[0m\u001b[0m\n\u001b[1;32m      6\u001b[0m     \u001b[0mres\u001b[0m \u001b[0;34m=\u001b[0m \u001b[0mfirst_num\u001b[0m \u001b[0;34m-\u001b[0m \u001b[0msecond_num\u001b[0m\u001b[0;34m\u001b[0m\u001b[0;34m\u001b[0m\u001b[0m\n",
            "\u001b[0;31mTypeError\u001b[0m: can only concatenate str (not \"int\") to str"
          ]
        }
      ]
    },
    {
      "cell_type": "markdown",
      "source": [
        "We get an error defined by the add or subtract function\n"
      ],
      "metadata": {
        "id": "MawlJuWeO21J"
      }
    },
    {
      "cell_type": "markdown",
      "source": [
        "4. Consider the following code:"
      ],
      "metadata": {
        "id": "Z0_cVjgdpOSr"
      }
    },
    {
      "cell_type": "code",
      "source": [
        "first_num  = 5\n",
        "second_num = 3\n",
        "\n",
        "result = 8\n",
        "\n",
        "result = add_or_subtract(first_num, second_num = 4)\n",
        "\n",
        "result_2 = add_or_subtract(first_num)"
      ],
      "metadata": {
        "id": "G4ImmGWGpekK"
      },
      "execution_count": 8,
      "outputs": []
    },
    {
      "cell_type": "markdown",
      "source": [
        "\n",
        "In your Global Environment, what is the value of...\n",
        "\n",
        "a. `first_num`\n",
        "\n",
        "b. `second_num`\n",
        "\n",
        "c. `result`\n",
        "\n",
        "d. `result_2`"
      ],
      "metadata": {
        "id": "K0I7k29Qpjfo"
      }
    },
    {
      "cell_type": "markdown",
      "source": [
        "first_num= 5\n",
        "second_num=3\n",
        "result= 9 ( first num plus 4, which is assigned in the function)\n",
        "result_2= 7 (5 plus the default value of 2)"
      ],
      "metadata": {
        "id": "KIe89s9gQKWQ"
      }
    },
    {
      "cell_type": "markdown",
      "source": [
        "first_num=5\n",
        "second_num= 3, then equals 4\n",
        "result =8, then equals 9 after second_num gets replaced by 4\n",
        "result_2 = 9, which is the result of the function call with the default value of second_num"
      ],
      "metadata": {
        "id": "mldTt-6vOcHu"
      }
    }
  ]
}